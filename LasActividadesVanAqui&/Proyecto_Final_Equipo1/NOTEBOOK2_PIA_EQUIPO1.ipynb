{
  "nbformat": 4,
  "nbformat_minor": 0,
  "metadata": {
    "colab": {
      "name": "NOTEBOOK2 PIA EQUIPO1.ipynb",
      "provenance": [],
      "collapsed_sections": []
    },
    "kernelspec": {
      "name": "python3",
      "display_name": "Python 3"
    },
    "language_info": {
      "name": "python"
    }
  },
  "cells": [
    {
      "cell_type": "markdown",
      "source": [
        "realizado por:\n",
        "\n",
        "Alfredo Lopez Aguirre 1992104\n",
        "\n",
        "Maria Magdely Presas Huerta 1921175\n",
        "\n",
        "Daniela Priscila Delgadillo Esquivel 1909350\n",
        "\n",
        "Notebook 2\n",
        "\n",
        "Utilizamos el dataset mnist para entrenar una red neuronal convolucional y utilizamos un dataset generado por nosotros para validarla."
      ],
      "metadata": {
        "id": "g3bC2FQzbmuA"
      }
    },
    {
      "cell_type": "markdown",
      "source": [
        "Primero importamos todas las librerias que se van a utilizar:"
      ],
      "metadata": {
        "id": "n4pjJNsHb87S"
      }
    },
    {
      "cell_type": "code",
      "execution_count": null,
      "metadata": {
        "id": "IJxT62lWxF1g"
      },
      "outputs": [],
      "source": [
        "import tensorflow as tf\n",
        "from tensorflow.keras import datasets, layers, models\n",
        "import matplotlib.pyplot as plt\n",
        "from keras.datasets import mnist\n",
        "from matplotlib import pyplot\n",
        "import cv2\n",
        "import glob\n",
        "import numpy as np"
      ]
    },
    {
      "cell_type": "markdown",
      "source": [
        "Al igual que en el Notebook 1, se declararon los arreglos vacios para guardar las imagenes, las etiquetas y las imagenes reescaladas que servirán para validar la RN. Se utilizaron las mismas lineas de código que en Notebook 1.\n"
      ],
      "metadata": {
        "id": "UFcG43hScCvA"
      }
    },
    {
      "cell_type": "code",
      "source": [
        "img_array=[]\n",
        "label_array=[]\n",
        "img_resized=[]"
      ],
      "metadata": {
        "id": "fj6xh43p51NB"
      },
      "execution_count": null,
      "outputs": []
    },
    {
      "cell_type": "code",
      "source": [
        "array0=[cv2.imread(file,cv2.IMREAD_GRAYSCALE)for file in glob.glob(\"/content/sample_data/numeros/0/0*\")]\n",
        "label0=[\"0\" for file in array0]\n",
        "array1=[cv2.imread(file,cv2.IMREAD_GRAYSCALE)for file in glob.glob(\"/content/sample_data/numeros/1/1*\")]\n",
        "label1=[\"1\" for file in array1]\n",
        "array2=[cv2.imread(file,cv2.IMREAD_GRAYSCALE)for file in glob.glob(\"/content/sample_data/numeros/2/2*\")]\n",
        "label2=[\"2\" for file in array2]\n",
        "array3=[cv2.imread(file,cv2.IMREAD_GRAYSCALE)for file in glob.glob(\"/content/sample_data/numeros/3/3*\")]\n",
        "label3=[\"3\" for file in array3]\n",
        "array4=[cv2.imread(file,cv2.IMREAD_GRAYSCALE)for file in glob.glob(\"/content/sample_data/numeros/4/4*\")]\n",
        "label4=[\"4\" for file in array4]\n",
        "array5=[cv2.imread(file,cv2.IMREAD_GRAYSCALE)for file in glob.glob(\"/content/sample_data/numeros/5/5*\")]\n",
        "label5=[\"5\" for file in array5]\n",
        "array6=[cv2.imread(file,cv2.IMREAD_GRAYSCALE)for file in glob.glob(\"/content/sample_data/numeros/6/6*\")]\n",
        "label6=[\"6\" for file in array6]\n",
        "array7=[cv2.imread(file,cv2.IMREAD_GRAYSCALE)for file in glob.glob(\"/content/sample_data/numeros/7/7*\")]\n",
        "label7=[\"7\" for file in array7]\n",
        "array8=[cv2.imread(file,cv2.IMREAD_GRAYSCALE)for file in glob.glob(\"/content/sample_data/numeros/8/8*\")]\n",
        "label8=[\"8\" for file in array8]\n",
        "array9=[cv2.imread(file,cv2.IMREAD_GRAYSCALE)for file in glob.glob(\"/content/sample_data/numeros/9/9*\")]\n",
        "label9=[\"9\" for file in array9]\n",
        "img_array=array0+array1+array2+array3+array4+array5+array6+array7+array8+array9\n",
        "print(len(img_array))\n",
        "label_array=label0+label1+label2+label3+label4+label5+label6+label7+label8+label9\n",
        "print(len(label_array))"
      ],
      "metadata": {
        "colab": {
          "base_uri": "https://localhost:8080/"
        },
        "id": "3WioQMv12gWz",
        "outputId": "dbdc6bf5-7d80-47ed-a14e-089098748ca3"
      },
      "execution_count": null,
      "outputs": [
        {
          "output_type": "stream",
          "name": "stdout",
          "text": [
            "300\n",
            "300\n"
          ]
        }
      ]
    },
    {
      "cell_type": "markdown",
      "source": [
        "Se utiliza el mismo algoritmo que en el Notebook 1 para reescalar las imagenes a 28,28. "
      ],
      "metadata": {
        "id": "IBykea9RcW4v"
      }
    },
    {
      "cell_type": "code",
      "source": [
        "#resize\n",
        "test_images=[]\n",
        "img_resized=[cv2.resize(file, (28,28), interpolation=cv2.INTER_LINEAR)for file in img_array]\n",
        "len(img_resized)"
      ],
      "metadata": {
        "colab": {
          "base_uri": "https://localhost:8080/"
        },
        "id": "o4sYxRgR7Qlu",
        "outputId": "b0f70cee-ae18-4770-a2ee-306253efbc17"
      },
      "execution_count": null,
      "outputs": [
        {
          "output_type": "execute_result",
          "data": {
            "text/plain": [
              "300"
            ]
          },
          "metadata": {},
          "execution_count": 18
        }
      ]
    },
    {
      "cell_type": "markdown",
      "source": [
        "Se convirtieron los arreglos a arreglos de numpy y se usó labelEncoder para las etiquetas y que el programa pudiera leer los datos."
      ],
      "metadata": {
        "id": "Z66WdAxOckL4"
      }
    },
    {
      "cell_type": "code",
      "source": [
        "#convertir a float\n",
        "test_images=np.array(img_resized)\n",
        "test_labels=np.array(label_array)\n",
        "\n",
        "from sklearn.preprocessing import LabelEncoder\n",
        "label=LabelEncoder()\n",
        "test_labels=label.fit_transform(label_array)"
      ],
      "metadata": {
        "id": "fKyStRzh8JjS"
      },
      "execution_count": null,
      "outputs": []
    },
    {
      "cell_type": "markdown",
      "source": [
        "Se normalizaron las imagenes y posteriormente se usó el comando .shape y len para verificar que se contara con las caracteristicas deseadas."
      ],
      "metadata": {
        "id": "pzQvZQWmc8pQ"
      }
    },
    {
      "cell_type": "code",
      "source": [
        "test_images=test_images/255.0"
      ],
      "metadata": {
        "id": "tXlotX5E8hsv"
      },
      "execution_count": null,
      "outputs": []
    },
    {
      "cell_type": "code",
      "source": [
        "print(test_images.shape)\n",
        "print(len(test_labels))"
      ],
      "metadata": {
        "colab": {
          "base_uri": "https://localhost:8080/"
        },
        "id": "EYmjdPqc8mfq",
        "outputId": "bab49de5-a912-406e-cc0f-8afda9bc6a6e"
      },
      "execution_count": null,
      "outputs": [
        {
          "output_type": "stream",
          "name": "stdout",
          "text": [
            "(300, 28, 28)\n",
            "300\n"
          ]
        }
      ]
    },
    {
      "cell_type": "code",
      "source": [
        "print(plt.imshow(test_images[20],cmap='gray'))\n",
        "print(plt.xlabel(test_labels[20]))"
      ],
      "metadata": {
        "colab": {
          "base_uri": "https://localhost:8080/",
          "height": 316
        },
        "id": "6x4dczHx9f3H",
        "outputId": "c5bede88-9ae6-4bbd-8d79-47a71bc72740"
      },
      "execution_count": null,
      "outputs": [
        {
          "output_type": "stream",
          "name": "stdout",
          "text": [
            "AxesImage(54,36;334.8x217.44)\n",
            "Text(0.5, 0, '0')\n"
          ]
        },
        {
          "output_type": "display_data",
          "data": {
            "text/plain": [
              "<Figure size 432x288 with 1 Axes>"
            ],
            "image/png": "[encoded data removed]"
          },
          "metadata": {
            "needs_background": "light"
          }
        }
      ]
    },
    {
      "cell_type": "markdown",
      "source": [
        "Se cargaron el dataset de mnist al programa y posteriormente se imprimieron los arreglos que se utilizarian para entrenar a la red neuronal."
      ],
      "metadata": {
        "id": "UQPgSPOjdJdP"
      }
    },
    {
      "cell_type": "code",
      "source": [
        "(train_X, train_y), (test_X, test_y) = mnist.load_data()"
      ],
      "metadata": {
        "id": "7DNIUPxlyDjT",
        "colab": {
          "base_uri": "https://localhost:8080/"
        },
        "outputId": "cdf7a036-5eaf-4a04-e1b5-fc38b5c5a6f3"
      },
      "execution_count": null,
      "outputs": [
        {
          "output_type": "stream",
          "name": "stdout",
          "text": [
            "Downloading data from https://storage.googleapis.com/tensorflow/tf-keras-datasets/mnist.npz\n",
            "11493376/11490434 [==============================] - 0s 0us/step\n",
            "11501568/11490434 [==============================] - 0s 0us/step\n"
          ]
        }
      ]
    },
    {
      "cell_type": "code",
      "source": [
        "print('X_train: ' + str(train_X.shape))\n",
        "print('Y_train: ' + str(train_y.shape))\n",
        "print('X_test:  '  + str(test_X.shape))\n",
        "print('Y_test:  '  + str(test_y.shape))"
      ],
      "metadata": {
        "colab": {
          "base_uri": "https://localhost:8080/"
        },
        "id": "gayxKbJ6yJps",
        "outputId": "15f4fa4b-1d65-49de-8dc5-f5b4fe6d51fe"
      },
      "execution_count": null,
      "outputs": [
        {
          "output_type": "stream",
          "name": "stdout",
          "text": [
            "X_train: (60000, 28, 28)\n",
            "Y_train: (60000,)\n",
            "X_test:  (10000, 28, 28)\n",
            "Y_test:  (10000,)\n"
          ]
        }
      ]
    },
    {
      "cell_type": "code",
      "source": [
        "train_X=train_X/255.0\n",
        "test_X=test_X/255.0"
      ],
      "metadata": {
        "id": "m6iCh5JSeuSg"
      },
      "execution_count": null,
      "outputs": []
    },
    {
      "cell_type": "markdown",
      "source": [
        "Se utilizó el mismo algoritmo que en el Notebook 1 para visualizar las imagenes y corroborar que se importaran de manera correcta."
      ],
      "metadata": {
        "id": "bbAhwNP3ddkt"
      }
    },
    {
      "cell_type": "code",
      "source": [
        "for i in range(9):  \n",
        "  pyplot.subplot(330 + 1 + i)\n",
        "  pyplot.imshow(train_X[i], cmap=pyplot.get_cmap('gray'))\n",
        "  print(pyplot.show())"
      ],
      "metadata": {
        "colab": {
          "base_uri": "https://localhost:8080/",
          "height": 1000
        },
        "id": "3ZusnKLgylde",
        "outputId": "efb5964e-1a8b-4e7e-96d8-a99c94053cce"
      },
      "execution_count": null,
      "outputs": [
        {
          "output_type": "display_data",
          "data": {
            "text/plain": [
              "<Figure size 432x288 with 1 Axes>"
            ],
            "image/png": "[encoded data removed]"
          },
          "metadata": {
            "needs_background": "light"
          }
        },
        {
          "output_type": "stream",
          "name": "stdout",
          "text": [
            "None\n"
          ]
        },
        {
          "output_type": "display_data",
          "data": {
            "text/plain": [
              "<Figure size 432x288 with 1 Axes>"
            ],
            "image/png": "[encoded data removed]"
          },
          "metadata": {
            "needs_background": "light"
          }
        },
        {
          "output_type": "stream",
          "name": "stdout",
          "text": [
            "None\n"
          ]
        },
        {
          "output_type": "display_data",
          "data": {
            "text/plain": [
              "<Figure size 432x288 with 1 Axes>"
            ],
            "image/png": "[encoded data removed]"
          },
          "metadata": {
            "needs_background": "light"
          }
        },
        {
          "output_type": "stream",
          "name": "stdout",
          "text": [
            "None\n"
          ]
        },
        {
          "output_type": "display_data",
          "data": {
            "text/plain": [
              "<Figure size 432x288 with 1 Axes>"
            ],
            "image/png": "[encoded data removed]"
          },
          "metadata": {
            "needs_background": "light"
          }
        },
        {
          "output_type": "stream",
          "name": "stdout",
          "text": [
            "None\n"
          ]
        },
        {
          "output_type": "display_data",
          "data": {
            "text/plain": [
              "<Figure size 432x288 with 1 Axes>"
            ],
            "image/png": "[encoded data removed]"
          },
          "metadata": {
            "needs_background": "light"
          }
        },
        {
          "output_type": "stream",
          "name": "stdout",
          "text": [
            "None\n"
          ]
        },
        {
          "output_type": "display_data",
          "data": {
            "text/plain": [
              "<Figure size 432x288 with 1 Axes>"
            ],
            "image/png": "[encoded data removed]"
          },
          "metadata": {
            "needs_background": "light"
          }
        },
        {
          "output_type": "stream",
          "name": "stdout",
          "text": [
            "None\n"
          ]
        },
        {
          "output_type": "display_data",
          "data": {
            "text/plain": [
              "<Figure size 432x288 with 1 Axes>"
            ],
            "image/png": "[encoded data removed]"
          },
          "metadata": {
            "needs_background": "light"
          }
        },
        {
          "output_type": "stream",
          "name": "stdout",
          "text": [
            "None\n"
          ]
        },
        {
          "output_type": "display_data",
          "data": {
            "text/plain": [
              "<Figure size 432x288 with 1 Axes>"
            ],
            "image/png": "[encoded data removed]"
          },
          "metadata": {
            "needs_background": "light"
          }
        },
        {
          "output_type": "stream",
          "name": "stdout",
          "text": [
            "None\n"
          ]
        },
        {
          "output_type": "display_data",
          "data": {
            "text/plain": [
              "<Figure size 432x288 with 1 Axes>"
            ],
            "image/png": "[encoded data removed]"
          },
          "metadata": {
            "needs_background": "light"
          }
        },
        {
          "output_type": "stream",
          "name": "stdout",
          "text": [
            "None\n"
          ]
        }
      ]
    },
    {
      "cell_type": "markdown",
      "source": [
        "Estructura y entrenamiento de Red Neuronal Artificial Convolusional (RNAC)\n"
      ],
      "metadata": {
        "id": "9325tzWVdxOR"
      }
    },
    {
      "cell_type": "markdown",
      "source": [
        "En esta sección se establece la cantidad de capas de convolusión y capas de aprendizaje para nuestra red neuronal artificial convolusional."
      ],
      "metadata": {
        "id": "R6a_RSXEd68H"
      }
    },
    {
      "cell_type": "code",
      "source": [
        "model = models.Sequential()\n",
        "model.add(layers.Conv2D(32, (3, 3), activation='relu', input_shape=(28,28,1)))\n",
        "model.add(layers.MaxPooling2D((2, 2)))\n",
        "model.add(layers.Conv2D(64, (3, 3), activation='relu'))\n",
        "model.add(layers.MaxPooling2D((2, 2)))\n",
        "model.add(layers.Conv2D(64, (3, 3), activation='relu'))"
      ],
      "metadata": {
        "id": "Q5v3-F3pyxaJ"
      },
      "execution_count": null,
      "outputs": []
    },
    {
      "cell_type": "markdown",
      "source": [
        ""
      ],
      "metadata": {
        "id": "ogVUXIOKd9yn"
      }
    },
    {
      "cell_type": "code",
      "source": [
        "model.add(layers.Flatten())\n",
        "model.add(layers.Dense(64, activation='relu'))\n",
        "model.add(layers.Dense(10,activation='softmax'))"
      ],
      "metadata": {
        "id": "6n-AfiIOzK0d"
      },
      "execution_count": null,
      "outputs": []
    },
    {
      "cell_type": "code",
      "source": [
        "model.compile(optimizer='adam',\n",
        "              loss=tf.keras.losses.SparseCategoricalCrossentropy(from_logits=True),\n",
        "              metrics=['accuracy'])\n",
        "\n",
        "history = model.fit(train_X, train_y, epochs=10, \n",
        "                    validation_data=(test_X, test_y))"
      ],
      "metadata": {
        "colab": {
          "base_uri": "https://localhost:8080/"
        },
        "id": "69pki9V9zN2y",
        "outputId": "fbc5c445-d068-47a7-aca6-a54e2022721e"
      },
      "execution_count": null,
      "outputs": [
        {
          "output_type": "stream",
          "name": "stdout",
          "text": [
            "Epoch 1/10\n"
          ]
        },
        {
          "output_type": "stream",
          "name": "stderr",
          "text": [
            "/usr/local/lib/python3.7/dist-packages/tensorflow/python/util/dispatch.py:1082: UserWarning: \"`sparse_categorical_crossentropy` received `from_logits=True`, but the `output` argument was produced by a sigmoid or softmax activation and thus does not represent logits. Was this intended?\"\n",
            "  return dispatch_target(*args, **kwargs)\n"
          ]
        },
        {
          "output_type": "stream",
          "name": "stdout",
          "text": [
            "1875/1875 [==============================] - 65s 34ms/step - loss: 0.1464 - accuracy: 0.9554 - val_loss: 0.0452 - val_accuracy: 0.9840\n",
            "Epoch 2/10\n",
            "1875/1875 [==============================] - 62s 33ms/step - loss: 0.0466 - accuracy: 0.9854 - val_loss: 0.0379 - val_accuracy: 0.9877\n",
            "Epoch 3/10\n",
            "1875/1875 [==============================] - 61s 33ms/step - loss: 0.0335 - accuracy: 0.9894 - val_loss: 0.0410 - val_accuracy: 0.9866\n",
            "Epoch 4/10\n",
            "1875/1875 [==============================] - 62s 33ms/step - loss: 0.0267 - accuracy: 0.9912 - val_loss: 0.0404 - val_accuracy: 0.9876\n",
            "Epoch 5/10\n",
            "1875/1875 [==============================] - 60s 32ms/step - loss: 0.0211 - accuracy: 0.9937 - val_loss: 0.0295 - val_accuracy: 0.9909\n",
            "Epoch 6/10\n",
            "1875/1875 [==============================] - 60s 32ms/step - loss: 0.0179 - accuracy: 0.9945 - val_loss: 0.0325 - val_accuracy: 0.9906\n",
            "Epoch 7/10\n",
            "1875/1875 [==============================] - 60s 32ms/step - loss: 0.0142 - accuracy: 0.9954 - val_loss: 0.0309 - val_accuracy: 0.9906\n",
            "Epoch 8/10\n",
            "1875/1875 [==============================] - 61s 32ms/step - loss: 0.0129 - accuracy: 0.9958 - val_loss: 0.0309 - val_accuracy: 0.9914\n",
            "Epoch 9/10\n",
            "1875/1875 [==============================] - 59s 31ms/step - loss: 0.0109 - accuracy: 0.9965 - val_loss: 0.0350 - val_accuracy: 0.9903\n",
            "Epoch 10/10\n",
            "1875/1875 [==============================] - 58s 31ms/step - loss: 0.0093 - accuracy: 0.9969 - val_loss: 0.0418 - val_accuracy: 0.9905\n"
          ]
        }
      ]
    },
    {
      "cell_type": "markdown",
      "source": [
        "Resultado de exactitud de la RNAC"
      ],
      "metadata": {
        "id": "uOTtk2kFeEQo"
      }
    },
    {
      "cell_type": "markdown",
      "source": [
        "en la grafica podemos apreciar el como cambia conforme avanzan las epocas de entrenamiento la presicion del programa tanto la presicion de su validacion, esto determina el porcentaje de precicion de el programa"
      ],
      "metadata": {
        "id": "HCakwBQbeGsI"
      }
    },
    {
      "cell_type": "code",
      "source": [
        "plt.plot(history.history['accuracy'], label='accuracy')\n",
        "plt.plot(history.history['val_accuracy'], label = 'val_accuracy')\n",
        "plt.xlabel('Epoch')\n",
        "plt.ylabel('Accuracy')\n",
        "plt.ylim([0.5, 1.0])\n",
        "plt.legend(loc='lower right')\n",
        "\n",
        "test_loss, test_acc = model.evaluate(test_images,  test_labels, verbose=2)\n",
        "print(test_acc)"
      ],
      "metadata": {
        "colab": {
          "base_uri": "https://localhost:8080/",
          "height": 320
        },
        "id": "X4gFHPxszVXp",
        "outputId": "021ce63d-65d3-4f20-954f-bcb91cfa9cdc"
      },
      "execution_count": null,
      "outputs": [
        {
          "output_type": "stream",
          "name": "stdout",
          "text": [
            "10/10 - 0s - loss: 1.1822 - accuracy: 0.8000 - 196ms/epoch - 20ms/step\n",
            "0.800000011920929\n"
          ]
        },
        {
          "output_type": "display_data",
          "data": {
            "text/plain": [
              "<Figure size 432x288 with 1 Axes>"
            ],
            "image/png": "[encoded data removed]"
          },
          "metadata": {
            "needs_background": "light"
          }
        }
      ]
    },
    {
      "cell_type": "markdown",
      "source": [
        "\n",
        "Se muestran al menos 3 predicciones de dígitos del 0 al 9. apreciamos que el programa acerto el 100% de las predicciones realizadas. Con esto concluimos que nuestro programa esta bien entrenado para reconocer la escritura de los numeros."
      ],
      "metadata": {
        "id": "JtxGHiodeJhI"
      }
    },
    {
      "cell_type": "code",
      "source": [
        "#predicciones\n",
        "predictions = model.predict(test_images)\n",
        "print(predictions[0])\n",
        "print(np.argmax(predictions[0]))\n",
        "print(test_labels[0])"
      ],
      "metadata": {
        "colab": {
          "base_uri": "https://localhost:8080/"
        },
        "id": "wvh9woHh9FZW",
        "outputId": "645b5f40-b506-4b1f-e6b3-4713a92993a8"
      },
      "execution_count": null,
      "outputs": [
        {
          "output_type": "stream",
          "name": "stdout",
          "text": [
            "[9.9964941e-01 6.6326718e-12 6.8595233e-05 2.0625897e-09 4.4509685e-09\n",
            " 6.1290403e-11 6.4540757e-08 6.8033408e-08 2.4754124e-07 2.8153398e-04]\n",
            "0\n",
            "0\n"
          ]
        }
      ]
    },
    {
      "cell_type": "code",
      "source": [
        "print(predictions[50])\n",
        "print(np.argmax(predictions[50]))\n",
        "print(test_labels[50])"
      ],
      "metadata": {
        "colab": {
          "base_uri": "https://localhost:8080/"
        },
        "id": "29y-Fggs9L7l",
        "outputId": "0c36ef8c-838f-4478-9db5-df3db0d4c337"
      },
      "execution_count": null,
      "outputs": [
        {
          "output_type": "stream",
          "name": "stdout",
          "text": [
            "[1.6250082e-12 9.9999762e-01 1.9038392e-06 4.7156885e-08 6.3990186e-09\n",
            " 1.2649050e-10 2.2768330e-12 4.7069432e-07 3.1627678e-10 9.3126472e-13]\n",
            "1\n",
            "1\n"
          ]
        }
      ]
    },
    {
      "cell_type": "code",
      "source": [
        "print(predictions[120])\n",
        "print(np.argmax(predictions[120]))\n",
        "print(test_labels[120])"
      ],
      "metadata": {
        "colab": {
          "base_uri": "https://localhost:8080/"
        },
        "id": "4Xrc4tJb9bYE",
        "outputId": "f4506618-cc63-4109-d30c-262cf3456e82"
      },
      "execution_count": null,
      "outputs": [
        {
          "output_type": "stream",
          "name": "stdout",
          "text": [
            "[4.0952535e-14 1.3757899e-09 3.1995270e-13 5.6823015e-11 1.0000000e+00\n",
            " 2.5969305e-08 5.7397441e-13 9.9289587e-12 3.8208509e-15 5.8698468e-08]\n",
            "4\n",
            "4\n"
          ]
        }
      ]
    }
  ]
}