{
  "nbformat": 4,
  "nbformat_minor": 0,
  "metadata": {
    "colab": {
      "name": "NOTEBOOK1 PIA_EQ1.ipynb",
      "provenance": [],
      "collapsed_sections": []
    },
    "kernelspec": {
      "name": "python3",
      "display_name": "Python 3"
    },
    "language_info": {
      "name": "python"
    }
  },
  "cells": [
    {
      "cell_type": "markdown",
      "source": [
        "**PIA IA VERANO 2022**\n",
        "\n",
        "realizado por:\n",
        "\n",
        "Alfredo Lopez Aguirre 1992104\n",
        "\n",
        "Maria Magdely Presas Huerta 1921175\n",
        "\n",
        "Daniela Priscila Delgadillo Esquivel 1909350\n",
        "\n",
        "***INTRODUCCION***\n",
        "\n",
        "En este proyecto se genero un conjunto de datos para posteriormente cargarlo a una red neuronal combulucional para predecir el tipo de numero "
      ],
      "metadata": {
        "id": "ZsWrdTzA7lM-"
      }
    },
    {
      "cell_type": "markdown",
      "source": [
        "Primero cargamos todas las librerias que utilizaremos:"
      ],
      "metadata": {
        "id": "lrxRd4jV8Mol"
      }
    },
    {
      "cell_type": "code",
      "execution_count": 42,
      "metadata": {
        "id": "AtnwbEruNjrL"
      },
      "outputs": [],
      "source": [
        "\n",
        "#Actividad PIA IA VERANO 2022\n",
        "import cv2\n",
        "import matplotlib.pyplot as plt\n",
        "import glob\n",
        "import numpy as np\n",
        "import tensorflow as tf\n",
        "from tensorflow.keras import datasets, layers, models\n",
        "from keras.datasets import mnist\n",
        "from matplotlib import pyplot"
      ]
    },
    {
      "cell_type": "markdown",
      "source": [
        "inicializamos dos variables de tipo arreglo para posteriormente guardar las imagenes que cargaremos al programa"
      ],
      "metadata": {
        "id": "nvHZnvp88UMD"
      }
    },
    {
      "cell_type": "code",
      "source": [
        "img_array=[]\n",
        "img_resized=[]"
      ],
      "metadata": {
        "id": "5Q9lgNSKNshZ"
      },
      "execution_count": 43,
      "outputs": []
    },
    {
      "cell_type": "markdown",
      "source": [
        "Posteriormente usamos FOR para cargar las imagenes a arreglos independientes para cada numero diferente, se suben desde el directorio mostrado y se aprovecha para etiquetar todas las imagenes con su respectiva etiqueta, posteriormente se guardan todas las imagenes y etiquetas en sus respectivos arreglos"
      ],
      "metadata": {
        "id": "zzF6RAGA8oPE"
      }
    },
    {
      "cell_type": "code",
      "source": [
        "array0=[cv2.imread(file,cv2.IMREAD_GRAYSCALE)for file in glob.glob(\"/content/sample_data/0/0*\")]\n",
        "label0=[\"0\" for file in array0]\n",
        "array1=[cv2.imread(file,cv2.IMREAD_GRAYSCALE)for file in glob.glob(\"/content/sample_data/1/1**\")]\n",
        "label1=[\"1\" for file in array1]\n",
        "array2=[cv2.imread(file,cv2.IMREAD_GRAYSCALE)for file in glob.glob(\"/content/sample_data/2/2*\")]\n",
        "label2=[\"2\" for file in array2]\n",
        "array3=[cv2.imread(file,cv2.IMREAD_GRAYSCALE)for file in glob.glob(\"/content/sample_data/3/3*\")]\n",
        "label3=[\"3\" for file in array3]\n",
        "array4=[cv2.imread(file,cv2.IMREAD_GRAYSCALE)for file in glob.glob(\"/content/sample_data/4/4*\")]\n",
        "label4=[\"4\" for file in array4]\n",
        "array5=[cv2.imread(file,cv2.IMREAD_GRAYSCALE)for file in glob.glob(\"/content/sample_data/5/5*\")]\n",
        "label5=[\"5\" for file in array5]\n",
        "array6=[cv2.imread(file,cv2.IMREAD_GRAYSCALE)for file in glob.glob(\"/content/sample_data/6/6*\")]\n",
        "label6=[\"6\" for file in array6]\n",
        "array7=[cv2.imread(file,cv2.IMREAD_GRAYSCALE)for file in glob.glob(\"/content/sample_data/7/7*\")]\n",
        "label7=[\"7\" for file in array7]\n",
        "array8=[cv2.imread(file,cv2.IMREAD_GRAYSCALE)for file in glob.glob(\"/content/sample_data/8/8*\")]\n",
        "label8=[\"8\" for file in array8]\n",
        "array9=[cv2.imread(file,cv2.IMREAD_GRAYSCALE)for file in glob.glob(\"/content/sample_data/9/9*\")]\n",
        "label9=[\"9\" for file in array9]\n",
        "img_array=array0+array1+array2+array3+array4+array5+array6+array7+array8+array9\n",
        "print(len(img_array))\n",
        "label_array=label0+label1+label2+label3+label4+label5+label6+label7+label8+label9\n",
        "print(len(label_array))"
      ],
      "metadata": {
        "id": "BIZvTZ-rNxbq",
        "colab": {
          "base_uri": "https://localhost:8080/"
        },
        "outputId": "ddcb1e0c-6821-48cb-fbed-7f5c6abd1344"
      },
      "execution_count": 44,
      "outputs": [
        {
          "output_type": "stream",
          "name": "stdout",
          "text": [
            "300\n",
            "300\n"
          ]
        }
      ]
    },
    {
      "cell_type": "markdown",
      "source": [
        "revisamos la longitud de los datos en las variables y posteriormente revisamos que se hayan cargado correctamente las imagenes:"
      ],
      "metadata": {
        "id": "LN_HMWEL-HCU"
      }
    },
    {
      "cell_type": "code",
      "source": [
        "len(img_resized)"
      ],
      "metadata": {
        "colab": {
          "base_uri": "https://localhost:8080/"
        },
        "id": "eRvSz7pkZjoS",
        "outputId": "326c88e2-7ce0-4ae3-edd4-b705746ae520"
      },
      "execution_count": 45,
      "outputs": [
        {
          "output_type": "execute_result",
          "data": {
            "text/plain": [
              "0"
            ]
          },
          "metadata": {},
          "execution_count": 45
        }
      ]
    },
    {
      "cell_type": "code",
      "source": [
        "plt.imshow(img_array[50], cmap='gray')"
      ],
      "metadata": {
        "colab": {
          "base_uri": "https://localhost:8080/",
          "height": 287
        },
        "id": "kqCz85d2QLcK",
        "outputId": "d1b728a4-4692-4d53-a46b-ad1297ed06b5"
      },
      "execution_count": 46,
      "outputs": [
        {
          "output_type": "execute_result",
          "data": {
            "text/plain": [
              "<matplotlib.image.AxesImage at 0x7f8987c5a710>"
            ]
          },
          "metadata": {},
          "execution_count": 46
        },
        {
          "output_type": "display_data",
          "data": {
            "text/plain": [
              "<Figure size 432x288 with 1 Axes>"
            ],
            "image/png": "[encoded data removed]"
          },
          "metadata": {
            "needs_background": "light"
          }
        }
      ]
    },
    {
      "cell_type": "code",
      "source": [
        "plt.imshow(img_array[23], cmap='gray')"
      ],
      "metadata": {
        "colab": {
          "base_uri": "https://localhost:8080/",
          "height": 287
        },
        "id": "uVRAcTqr0n6b",
        "outputId": "6105081d-6ac1-40bc-f81a-dd2e25becccf"
      },
      "execution_count": 47,
      "outputs": [
        {
          "output_type": "execute_result",
          "data": {
            "text/plain": [
              "<matplotlib.image.AxesImage at 0x7f8987879fd0>"
            ]
          },
          "metadata": {},
          "execution_count": 47
        },
        {
          "output_type": "display_data",
          "data": {
            "text/plain": [
              "<Figure size 432x288 with 1 Axes>"
            ],
            "image/png": "[encoded data removed]"
          },
          "metadata": {
            "needs_background": "light"
          }
        }
      ]
    },
    {
      "cell_type": "code",
      "source": [
        "plt.imshow(img_array[87], cmap='gray')\n"
      ],
      "metadata": {
        "id": "lx8-02y60z3i",
        "outputId": "c8859320-61ac-4f2d-a58f-98de7788ee1b",
        "colab": {
          "base_uri": "https://localhost:8080/",
          "height": 287
        }
      },
      "execution_count": 48,
      "outputs": [
        {
          "output_type": "execute_result",
          "data": {
            "text/plain": [
              "<matplotlib.image.AxesImage at 0x7f8987afdf90>"
            ]
          },
          "metadata": {},
          "execution_count": 48
        },
        {
          "output_type": "display_data",
          "data": {
            "text/plain": [
              "<Figure size 432x288 with 1 Axes>"
            ],
            "image/png": "[encoded data removed]"
          },
          "metadata": {
            "needs_background": "light"
          }
        }
      ]
    },
    {
      "cell_type": "markdown",
      "source": [
        "utilizamos este algoritmo para imprimir todas las imagenes en el rango de 0 a 9, en este caso seran todos los ceros, unicamente para comprobar que se cargaron correctamente las imagenes."
      ],
      "metadata": {
        "id": "YSBk_Arf-Z3p"
      }
    },
    {
      "cell_type": "code",
      "source": [
        "for i in range(9):\n",
        "  plt.subplot(330+1+i)\n",
        "  plt.imshow(img_array[i],cmap=plt.get_cmap('gray'))\n",
        "  plt.xlabel(label_array[i])\n",
        "  plt.show()"
      ],
      "metadata": {
        "colab": {
          "base_uri": "https://localhost:8080/",
          "height": 1000
        },
        "id": "tzWWPEAZSq2o",
        "outputId": "33d0a427-4388-4a16-d96e-f137967eb230"
      },
      "execution_count": 49,
      "outputs": [
        {
          "output_type": "display_data",
          "data": {
            "text/plain": [
              "<Figure size 432x288 with 1 Axes>"
            ],
            "image/png": "[encoded data removed]"
          },
          "metadata": {
            "needs_background": "light"
          }
        },
        {
          "output_type": "display_data",
          "data": {
            "text/plain": [
              "<Figure size 432x288 with 1 Axes>"
            ],
            "image/png": "[encoded data removed]"
          },
          "metadata": {
            "needs_background": "light"
          }
        },
        {
          "output_type": "display_data",
          "data": {
            "text/plain": [
              "<Figure size 432x288 with 1 Axes>"
            ],
            "image/png": "[encoded data removed]"
          },
          "metadata": {
            "needs_background": "light"
          }
        },
        {
          "output_type": "display_data",
          "data": {
            "text/plain": [
              "<Figure size 432x288 with 1 Axes>"
            ],
            "image/png": "[encoded data removed]"
          },
          "metadata": {
            "needs_background": "light"
          }
        },
        {
          "output_type": "display_data",
          "data": {
            "text/plain": [
              "<Figure size 432x288 with 1 Axes>"
            ],
            "image/png": "[encoded data removed]"
          },
          "metadata": {
            "needs_background": "light"
          }
        },
        {
          "output_type": "display_data",
          "data": {
            "text/plain": [
              "<Figure size 432x288 with 1 Axes>"
            ],
            "image/png": "[encoded data removed]"
          },
          "metadata": {
            "needs_background": "light"
          }
        },
        {
          "output_type": "display_data",
          "data": {
            "text/plain": [
              "<Figure size 432x288 with 1 Axes>"
            ],
            "image/png": "[encoded data removed]"
          },
          "metadata": {
            "needs_background": "light"
          }
        },
        {
          "output_type": "display_data",
          "data": {
            "text/plain": [
              "<Figure size 432x288 with 1 Axes>"
            ],
            "image/png": "[encoded data removed]"
          },
          "metadata": {
            "needs_background": "light"
          }
        },
        {
          "output_type": "display_data",
          "data": {
            "text/plain": [
              "<Figure size 432x288 with 1 Axes>"
            ],
            "image/png": "[encoded data removed]"
          },
          "metadata": {
            "needs_background": "light"
          }
        }
      ]
    },
    {
      "cell_type": "markdown",
      "source": [
        "posteriormente, se procede a reescalar las imagenes a 28 x 28 pixeles, ya que este es el formato que acepta la red neuronal y revisamos que la longitud del nuevo arreglo donde se guardaran las imagenes sea el correcto."
      ],
      "metadata": {
        "id": "FxkmUmV0-10v"
      }
    },
    {
      "cell_type": "code",
      "source": [
        "img_resized=[cv2.resize(file, (28,28), interpolation=cv2.INTER_LINEAR)for file in img_array]\n",
        "len(img_resized)"
      ],
      "metadata": {
        "colab": {
          "base_uri": "https://localhost:8080/"
        },
        "id": "06ziq7sXdSGU",
        "outputId": "c57ada31-1bce-4002-ba9f-06c4406f2458"
      },
      "execution_count": 50,
      "outputs": [
        {
          "output_type": "execute_result",
          "data": {
            "text/plain": [
              "300"
            ]
          },
          "metadata": {},
          "execution_count": 50
        }
      ]
    },
    {
      "cell_type": "markdown",
      "source": [
        "de igual manera, usamos el mismo algoritmo utilizado antes para visualizar que las imagenes se hayan reescalado y guardado correctamente."
      ],
      "metadata": {
        "id": "LplSnGdpAMQg"
      }
    },
    {
      "cell_type": "code",
      "source": [
        "for i in range(9):\n",
        "  plt.subplot(330+1+i)\n",
        "  plt.imshow(img_resized[i],cmap=plt.get_cmap('gray'))\n",
        "  plt.xlabel(label_array[i])\n",
        "  plt.show()"
      ],
      "metadata": {
        "colab": {
          "base_uri": "https://localhost:8080/",
          "height": 1000
        },
        "id": "usESMtdrdvpM",
        "outputId": "c7ad84a4-f6ac-4ab3-ee3a-f19d588ea044"
      },
      "execution_count": 51,
      "outputs": [
        {
          "output_type": "display_data",
          "data": {
            "text/plain": [
              "<Figure size 432x288 with 1 Axes>"
            ],
            "image/png": "[encoded data removed]"
          },
          "metadata": {
            "needs_background": "light"
          }
        },
        {
          "output_type": "display_data",
          "data": {
            "text/plain": [
              "<Figure size 432x288 with 1 Axes>"
            ],
            "image/png": "[encoded data removed]"
          },
          "metadata": {
            "needs_background": "light"
          }
        },
        {
          "output_type": "display_data",
          "data": {
            "text/plain": [
              "<Figure size 432x288 with 1 Axes>"
            ],
            "image/png": "[encoded data removed]"
          },
          "metadata": {
            "needs_background": "light"
          }
        },
        {
          "output_type": "display_data",
          "data": {
            "text/plain": [
              "<Figure size 432x288 with 1 Axes>"
            ],
            "image/png": "[encoded data removed]"
          },
          "metadata": {
            "needs_background": "light"
          }
        },
        {
          "output_type": "display_data",
          "data": {
            "text/plain": [
              "<Figure size 432x288 with 1 Axes>"
            ],
            "image/png": "[encoded data removed]"
          },
          "metadata": {
            "needs_background": "light"
          }
        },
        {
          "output_type": "display_data",
          "data": {
            "text/plain": [
              "<Figure size 432x288 with 1 Axes>"
            ],
            "image/png": "[encoded data removed]"
          },
          "metadata": {
            "needs_background": "light"
          }
        },
        {
          "output_type": "display_data",
          "data": {
            "text/plain": [
              "<Figure size 432x288 with 1 Axes>"
            ],
            "image/png": "[encoded data removed]"
          },
          "metadata": {
            "needs_background": "light"
          }
        },
        {
          "output_type": "display_data",
          "data": {
            "text/plain": [
              "<Figure size 432x288 with 1 Axes>"
            ],
            "image/png": "[encoded data removed]"
          },
          "metadata": {
            "needs_background": "light"
          }
        },
        {
          "output_type": "display_data",
          "data": {
            "text/plain": [
              "<Figure size 432x288 with 1 Axes>"
            ],
            "image/png": "[encoded data removed]"
          },
          "metadata": {
            "needs_background": "light"
          }
        }
      ]
    },
    {
      "cell_type": "markdown",
      "source": [
        "A continuacion, separamos las imagenes y etiquetas en 80% para entrenamiento y 20% para validacion, convertimos los arreglos a arreglos de numpy y usamos labelencoder para las etiquetas, para que la red neuronal pueda reconocer los datos"
      ],
      "metadata": {
        "id": "z0EeVq-SCjGZ"
      }
    },
    {
      "cell_type": "code",
      "source": [
        "train_images=[]\n",
        "train_labels=[]\n",
        "test_images=[]\n",
        "test_labels=[]"
      ],
      "metadata": {
        "id": "DNuO3A6VeqAr"
      },
      "execution_count": 52,
      "outputs": []
    },
    {
      "cell_type": "code",
      "source": [
        "#modificar tamaño del indice de acuerdo al numero de imagenes\n",
        "i=0\n",
        "j=0\n",
        "for i in range(0,len(img_resized),30):\n",
        "  for j in range(24):\n",
        "    train_images.append (img_resized[i+j])\n",
        "    train_labels.append(label_array[i+j])     \n",
        "    \n",
        "  for j in range(6):\n",
        "    test_images.append(img_resized[i+24+j])\n",
        "    test_labels.append(label_array[i+24+j])\n",
        "\n",
        "#convertir a float\n",
        "train_images=np.array(train_images)\n",
        "train_labels=np.array(train_labels)\n",
        "test_images=np.array(test_images)\n",
        "test_labels=np.array(test_labels)\n",
        "\n",
        "from sklearn.preprocessing import LabelEncoder\n",
        "label=LabelEncoder()\n",
        "test_labels=label.fit_transform(test_labels)\n",
        "train_labels=label.fit_transform(train_labels)"
      ],
      "metadata": {
        "id": "dJnaiRMAfYIx"
      },
      "execution_count": 53,
      "outputs": []
    },
    {
      "cell_type": "markdown",
      "source": [
        "normalizamos las imagenes y posteriormente usamos .shape y len para ver que las caracteristicas sean las deseadas"
      ],
      "metadata": {
        "id": "Qc1GRJviDK6x"
      }
    },
    {
      "cell_type": "code",
      "source": [
        "train_images=train_images/255.0\n",
        "test_images=test_images/255.0"
      ],
      "metadata": {
        "id": "CyqA7RJNh2bP"
      },
      "execution_count": 54,
      "outputs": []
    },
    {
      "cell_type": "code",
      "source": [
        "print(train_images.shape)\n",
        "print(test_images.shape)\n",
        "print(len(test_labels))\n",
        "print(len(train_labels))\n",
        "print(plt.imshow(test_images[10],cmap='gray'))\n",
        "print(plt.xlabel(test_labels[10]))"
      ],
      "metadata": {
        "colab": {
          "base_uri": "https://localhost:8080/",
          "height": 387
        },
        "id": "8vP4CEDejI6F",
        "outputId": "1b01989c-210b-46ef-d2d4-60ff2c5997e5"
      },
      "execution_count": 55,
      "outputs": [
        {
          "output_type": "stream",
          "name": "stdout",
          "text": [
            "(240, 28, 28)\n",
            "(60, 28, 28)\n",
            "60\n",
            "240\n",
            "AxesImage(54,36;334.8x217.44)\n",
            "Text(0.5, 0, '1')\n"
          ]
        },
        {
          "output_type": "display_data",
          "data": {
            "text/plain": [
              "<Figure size 432x288 with 1 Axes>"
            ],
            "image/png": "[encoded data removed]"
          },
          "metadata": {
            "needs_background": "light"
          }
        }
      ]
    },
    {
      "cell_type": "markdown",
      "source": [
        "Estructura y entrenamiento de Red Neuronal Artificial Convolusional (RNAC)"
      ],
      "metadata": {
        "id": "Kzpms988DpLT"
      }
    },
    {
      "cell_type": "markdown",
      "source": [
        "En esta sección se establece la cantidad de capas de convolusión y capas de aprendizaje para nuestra red neuronal artificial convolusional."
      ],
      "metadata": {
        "id": "-rx5ydLaD0kT"
      }
    },
    {
      "cell_type": "code",
      "source": [
        "model = models.Sequential()\n",
        "model.add(layers.Conv2D(32, (3, 3), activation='relu', input_shape=(28,28,1)))\n",
        "model.add(layers.MaxPooling2D((2, 2)))\n",
        "model.add(layers.Conv2D(64, (3, 3), activation='relu'))\n",
        "model.add(layers.MaxPooling2D((2, 2)))\n",
        "model.add(layers.Conv2D(64, (3, 3), activation='relu'))"
      ],
      "metadata": {
        "id": "E5VjMvpqjgyK"
      },
      "execution_count": 56,
      "outputs": []
    },
    {
      "cell_type": "code",
      "source": [
        "# Parte de clasificación\n",
        "model.add(layers.Flatten())\n",
        "model.add(layers.Dense(64, activation='relu'))\n",
        "model.add(layers.Dense(10,activation='softmax'))"
      ],
      "metadata": {
        "id": "0CgSCc5tjyyJ"
      },
      "execution_count": 57,
      "outputs": []
    },
    {
      "cell_type": "code",
      "source": [
        "# Compliación del modelo: características\n",
        "model.compile(optimizer='adam',\n",
        "              loss=tf.keras.losses.SparseCategoricalCrossentropy(from_logits=True),\n",
        "              metrics=['accuracy'])\n",
        "\n",
        "history = model.fit(train_images, train_labels, epochs=10, \n",
        "                    validation_data=(test_images, test_labels))"
      ],
      "metadata": {
        "id": "SIKog4yHjzrp",
        "colab": {
          "base_uri": "https://localhost:8080/"
        },
        "outputId": "3c141c76-f59c-47b7-ab97-1c21fa1c6c9d"
      },
      "execution_count": 58,
      "outputs": [
        {
          "output_type": "stream",
          "name": "stdout",
          "text": [
            "Epoch 1/10\n"
          ]
        },
        {
          "output_type": "stream",
          "name": "stderr",
          "text": [
            "/usr/local/lib/python3.7/dist-packages/tensorflow/python/util/dispatch.py:1082: UserWarning: \"`sparse_categorical_crossentropy` received `from_logits=True`, but the `output` argument was produced by a sigmoid or softmax activation and thus does not represent logits. Was this intended?\"\n",
            "  return dispatch_target(*args, **kwargs)\n"
          ]
        },
        {
          "output_type": "stream",
          "name": "stdout",
          "text": [
            "8/8 [==============================] - 1s 53ms/step - loss: 2.1589 - accuracy: 0.4167 - val_loss: 1.8346 - val_accuracy: 0.7000\n",
            "Epoch 2/10\n",
            "8/8 [==============================] - 0s 32ms/step - loss: 1.4980 - accuracy: 0.8042 - val_loss: 0.9113 - val_accuracy: 0.9000\n",
            "Epoch 3/10\n",
            "8/8 [==============================] - 0s 31ms/step - loss: 0.5488 - accuracy: 0.9333 - val_loss: 0.1683 - val_accuracy: 1.0000\n",
            "Epoch 4/10\n",
            "8/8 [==============================] - 0s 32ms/step - loss: 0.0687 - accuracy: 1.0000 - val_loss: 0.0140 - val_accuracy: 1.0000\n",
            "Epoch 5/10\n",
            "8/8 [==============================] - 0s 33ms/step - loss: 0.0064 - accuracy: 1.0000 - val_loss: 0.0011 - val_accuracy: 1.0000\n",
            "Epoch 6/10\n",
            "8/8 [==============================] - 0s 34ms/step - loss: 7.5327e-04 - accuracy: 1.0000 - val_loss: 3.5283e-04 - val_accuracy: 1.0000\n",
            "Epoch 7/10\n",
            "8/8 [==============================] - 0s 33ms/step - loss: 2.3702e-04 - accuracy: 1.0000 - val_loss: 1.3764e-04 - val_accuracy: 1.0000\n",
            "Epoch 8/10\n",
            "8/8 [==============================] - 0s 31ms/step - loss: 1.1267e-04 - accuracy: 1.0000 - val_loss: 8.8626e-05 - val_accuracy: 1.0000\n",
            "Epoch 9/10\n",
            "8/8 [==============================] - 0s 32ms/step - loss: 8.0522e-05 - accuracy: 1.0000 - val_loss: 7.1712e-05 - val_accuracy: 1.0000\n",
            "Epoch 10/10\n",
            "8/8 [==============================] - 0s 33ms/step - loss: 6.7571e-05 - accuracy: 1.0000 - val_loss: 6.2618e-05 - val_accuracy: 1.0000\n"
          ]
        }
      ]
    },
    {
      "cell_type": "markdown",
      "source": [
        ":Resultados de exactitud de la RNAC"
      ],
      "metadata": {
        "id": "V5QuJ-qlEqsZ"
      }
    },
    {
      "cell_type": "markdown",
      "source": [
        "en la grafica podemos apreciar el como cambia conforme avanzan las epocas de entrenamiento la presicion del programa tanto la presicion de su validacion, esto determina el porcentaje de precicion de el programa"
      ],
      "metadata": {
        "id": "7iPA10fgEud-"
      }
    },
    {
      "cell_type": "code",
      "source": [
        "#test accuracy\n",
        "plt.plot(history.history['accuracy'], label='accuracy')\n",
        "plt.plot(history.history['val_accuracy'], label = 'val_accuracy')\n",
        "plt.xlabel('Epoch')\n",
        "plt.ylabel('Accuracy')\n",
        "plt.ylim([0.5, 1.01])\n",
        "plt.legend(loc='lower right')\n",
        "\n",
        "test_loss, test_acc = model.evaluate(test_images,  test_labels, verbose=2)\n",
        "print(test_acc)"
      ],
      "metadata": {
        "id": "6aumiY7wrGQ7",
        "colab": {
          "base_uri": "https://localhost:8080/",
          "height": 315
        },
        "outputId": "5ca71a27-7447-4d49-98e2-c9265355c309"
      },
      "execution_count": 62,
      "outputs": [
        {
          "output_type": "stream",
          "name": "stdout",
          "text": [
            "2/2 - 0s - loss: 6.2618e-05 - accuracy: 1.0000 - 27ms/epoch - 13ms/step\n",
            "1.0\n"
          ]
        },
        {
          "output_type": "display_data",
          "data": {
            "text/plain": [
              "<Figure size 432x288 with 1 Axes>"
            ],
            "image/png": "[encoded data removed]"
          },
          "metadata": {
            "needs_background": "light"
          }
        }
      ]
    },
    {
      "cell_type": "markdown",
      "source": [
        "Se muestran al menos 3 predicciones de dígitos del 0 al 9. apreciamos que el programa acerto el 100% de las predicciones realizadas"
      ],
      "metadata": {
        "id": "3fp7eVsaE9C0"
      }
    },
    {
      "cell_type": "code",
      "source": [
        "#predicciones\n",
        "predictions = model.predict(test_images)\n",
        "print(predictions[1])\n",
        "print(np.argmax(predictions[1]))\n",
        "print(test_labels[1])"
      ],
      "metadata": {
        "colab": {
          "base_uri": "https://localhost:8080/"
        },
        "id": "eHO4ZwgGt5l1",
        "outputId": "767a296e-e6a2-4411-b32e-cdca19a45209"
      },
      "execution_count": 63,
      "outputs": [
        {
          "output_type": "stream",
          "name": "stdout",
          "text": [
            "[9.99994040e-01 1.61772748e-10 3.67555799e-06 8.71960548e-09\n",
            " 2.12189857e-08 1.07573350e-09 2.26804423e-06 3.36057271e-09\n",
            " 1.18225625e-08 2.66507238e-09]\n",
            "0\n",
            "0\n"
          ]
        }
      ]
    },
    {
      "cell_type": "code",
      "source": [
        "print(predictions[10])\n",
        "print(np.argmax(predictions[10]))\n",
        "print(test_labels[10])"
      ],
      "metadata": {
        "colab": {
          "base_uri": "https://localhost:8080/"
        },
        "id": "5DPVwpOTv6bi",
        "outputId": "62ad8ece-3893-4954-c4f0-3d04c9b1849d"
      },
      "execution_count": 64,
      "outputs": [
        {
          "output_type": "stream",
          "name": "stdout",
          "text": [
            "[6.2268690e-11 9.9988830e-01 1.1169206e-04 7.5804456e-09 4.4968448e-13\n",
            " 3.6171710e-09 2.4064312e-10 3.0919305e-09 2.6646991e-09 1.1750590e-08]\n",
            "1\n",
            "1\n"
          ]
        }
      ]
    },
    {
      "cell_type": "code",
      "source": [
        "print(predictions[3])\n",
        "print(np.argmax(predictions[3]))\n",
        "print(test_labels[3])"
      ],
      "metadata": {
        "colab": {
          "base_uri": "https://localhost:8080/"
        },
        "id": "xQ9JLPmGv7Gn",
        "outputId": "e2093557-264a-4029-af19-992fc6161627"
      },
      "execution_count": 65,
      "outputs": [
        {
          "output_type": "stream",
          "name": "stdout",
          "text": [
            "[9.99994040e-01 1.61772748e-10 3.67555799e-06 8.71960548e-09\n",
            " 2.12189857e-08 1.07573350e-09 2.26804423e-06 3.36057271e-09\n",
            " 1.18225625e-08 2.66507238e-09]\n",
            "0\n",
            "0\n"
          ]
        }
      ]
    }
  ]
}